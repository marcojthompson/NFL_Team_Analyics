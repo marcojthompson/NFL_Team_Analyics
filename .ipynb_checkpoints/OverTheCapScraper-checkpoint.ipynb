{
 "cells": [
  {
   "cell_type": "code",
   "execution_count": 1,
   "id": "603f188e",
   "metadata": {},
   "outputs": [],
   "source": [
    "# Header block to include all modules that must be imported ahead of time\n",
    "# Only needs to be run once per session, and each time a new module is added\n",
    "\n",
    "import requests\n",
    "from bs4 import BeautifulSoup\n",
    "import json\n",
    "import pandas as pd # this will need to be installed via command line first\n",
    "import lxml # this will need to be installed via command line first(as well)"
   ]
  },
  {
   "cell_type": "code",
   "execution_count": 4,
   "id": "e1f1d9a5",
   "metadata": {},
   "outputs": [],
   "source": [
    "# Method to get the salary cap hits for every player currently signed on an NFL team\n",
    "def GetPlayerSalaryCapHits(ListOfTeams):\n",
    "    \n",
    "    for team in ListOfTeams:\n",
    "        # Use requests to get the raw HTML response\n",
    "        OTCResponse = requests.get(f'https://overthecap.com/salary-cap/{team}')\n",
    "        \n",
    "        # If we get a normal response proceed with data scraping\n",
    "        if OTCResponse.status_code == 200:\n",
    "            print(f\"Request succeeded with status code {OTCResponse.status_code}\")\n",
    "            TeamNameCaptalized = (team.replace(\"-\", \" \")).title()\n",
    "            print(f\"Here are the Salary Cap hits for all players who are currently signed with the {TeamNameCaptalized}:\")\n",
    "\n",
    "            # Pandas read_html method allows the table contents to be put into a DataFrame\n",
    "            table_tag = 'salary-cap-table contracted-players'\n",
    "            DataFrames = pd.read_html(OTCResponse.content, attrs={'class': table_tag})\n",
    "\n",
    "            # Then the first DataFrame can be converted to a list of dictionaries for each row\n",
    "            SalaryTable = DataFrames[0].to_dict('records') # using records attribute turns each row into a dictionary\n",
    "            \n",
    "            # The 52nd element in the list of dicitionaries is a placeholder for the Top 51 cutoff\n",
    "            if len(SalaryTable) > 52:\n",
    "                # Delete the 52nd element of the Salary Table if the team has at least 51 players signed\n",
    "                del SalaryTable[51]\n",
    "            \n",
    "            # Print out the player name and cap hit\n",
    "            for player in SalaryTable:\n",
    "                #Key into the dictionary and get player name and cap hit \n",
    "                PlayerCapHit = player[('Player', 'Player')], player[('Cap Number', 'Cap Number')]\n",
    "                print(PlayerCapHit)\n",
    "        \n",
    "        # If we don't get a normal reponse, stop scraping\n",
    "        else:\n",
    "            print(f\"Request failed with status code {OTCResponse.status_code}\")\n",
    "            return -1\n"
   ]
  },
  {
   "cell_type": "code",
   "execution_count": 5,
   "id": "0e70a908",
   "metadata": {},
   "outputs": [
    {
     "name": "stdout",
     "output_type": "stream",
     "text": [
      "https://overthecap.com/salaray-cap/buffalo-bills\n",
      "https://overthecap.com/salaray-cap/buffalo-bills\n",
      "Request failed with status code 404\n"
     ]
    },
    {
     "data": {
      "text/plain": [
       "-1"
      ]
     },
     "execution_count": 5,
     "metadata": {},
     "output_type": "execute_result"
    }
   ],
   "source": [
    "# A list of links to Over The Cap Salary Cap pages for various teams\n",
    "NFLTeams = ['buffalo-bills', 'miami-dolphins', 'new-england-patriots', 'new-york-jets',\n",
    "            'baltimore-ravens', 'cincinnati-bengals', 'cleveland-browns', 'pittsburgh-steelers',\n",
    "            'houston-texans', 'indianapolis-colts', 'jacksonville-jaguars', 'tennessee-titans', \n",
    "            'denver-broncos', 'kansas-city-chiefs', 'las-vegas-raiders', 'los-angeles-chargers',\n",
    "            'dallas-cowboys', 'new-york-giants', 'philadelphia-eagles', 'washington-commanders',\n",
    "            'chicago-bears', 'detroit-lions', 'green-bay-packers', 'minnesota-vikings',\n",
    "            'atlanta-falcons', 'carolina-panthers', 'new-orleans-saints', 'tampa-bay-buccaneers',\n",
    "            'arizona-cardinals', 'los-angeles-rams', 'san-francisco-49ers', 'seattle-seahawks'\n",
    "           ]\n",
    "\n",
    "# Call the method defined above to get all the player data\n",
    "GetPlayerSalaryCapHits(NFLTeams)"
   ]
  },
  {
   "cell_type": "code",
   "execution_count": null,
   "id": "81670ed8",
   "metadata": {},
   "outputs": [],
   "source": [
    "#ALl NFL Teams have their roster posted on NFL.com, so we can create a list of links to get rosters for all teams."
   ]
  }
 ],
 "metadata": {
  "kernelspec": {
   "display_name": "Python 3 (ipykernel)",
   "language": "python",
   "name": "python3"
  },
  "language_info": {
   "codemirror_mode": {
    "name": "ipython",
    "version": 3
   },
   "file_extension": ".py",
   "mimetype": "text/x-python",
   "name": "python",
   "nbconvert_exporter": "python",
   "pygments_lexer": "ipython3",
   "version": "3.8.10"
  }
 },
 "nbformat": 4,
 "nbformat_minor": 5
}
