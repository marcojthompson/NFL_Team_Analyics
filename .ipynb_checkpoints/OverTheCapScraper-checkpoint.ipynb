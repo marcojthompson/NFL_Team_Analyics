{
 "cells": [
  {
   "cell_type": "code",
   "execution_count": 3,
   "id": "603f188e",
   "metadata": {},
   "outputs": [],
   "source": [
    "# Header block to include all modules that must be imported ahead of time\n",
    "# Only needs to be run once per session, and each time a new module is added\n",
    "\n",
    "import requests\n",
    "from bs4 import BeautifulSoup\n",
    "import json\n",
    "import pandas as pd # this will need to be installed via command line first\n",
    "import lxml # this will need to be installed via command line first(as well)"
   ]
  },
  {
   "cell_type": "code",
   "execution_count": 7,
   "id": "e1f1d9a5",
   "metadata": {},
   "outputs": [],
   "source": [
    "# Method to get the salary cap hits for every player currently signed on an NFL team\n",
    "\n",
    "def GetTeamSalaryCapHits(team):\n",
    "    # Use requests to get the raw HTML response\n",
    "    OTCResponse = requests.get(f'https://overthecap.com/salary-cap/{team[:-4]}')\n",
    "        \n",
    "    # If we get a normal response proceed with data scraping\n",
    "    if OTCResponse.status_code == 200:\n",
    "        print(f\"Request succeeded with status code {OTCResponse.status_code}\")\n",
    "        TeamNameCaptalized = (team[:-4].replace(\"-\", \" \")).title()\n",
    "        print(f\"Here are the Salary Cap hits for all players who are currently signed with the {TeamNameCaptalized}:\")\n",
    "\n",
    "        # Pandas read_html method allows the table contents to be put into a DataFrame\n",
    "        table_tag = 'salary-cap-table contracted-players'\n",
    "        DataFrames = pd.read_html(OTCResponse.content, attrs={'class': table_tag})\n",
    "\n",
    "        # Then the first DataFrame can be converted to a list of dictionaries for each row\n",
    "        SalaryTable = DataFrames[0].to_dict('records') # using records attribute turns each row into a dictionary\n",
    "\n",
    "        # The 52nd element in the list of dicitionaries is a placeholder for the Top 51 cutoff\n",
    "        if len(SalaryTable) > 52:\n",
    "            # Delete the 52nd element of the Salary Table if the team has at least 51 players signed\n",
    "            del SalaryTable[51]\n",
    "\n",
    "        # Create a list to store salary data\n",
    "        SalaryPlayerList = []\n",
    "\n",
    "        # Populate list with lists that include playname and salary cap hit\n",
    "        for player in SalaryTable:\n",
    "            #Key into the dictionary and get player name and cap hit \n",
    "            PlayerCapHit = [player[('Player', 'Player')], player[('Cap Number', 'Cap Number')]]\n",
    "            SalaryPlayerList.append(PlayerCapHit)\n",
    "\n",
    "        print(SalaryPlayerList)\n",
    "\n",
    "    # If we don't get a normal reponse, stop scraping\n",
    "    else:\n",
    "        print(f\"Request failed with status code {OTCResponse.status_code}\")\n",
    "        return -1\n"
   ]
  },
  {
   "cell_type": "code",
   "execution_count": 8,
   "id": "0e70a908",
   "metadata": {},
   "outputs": [
    {
     "name": "stdout",
     "output_type": "stream",
     "text": [
      "Request succeeded with status code 200\n",
      "Here are the Salary Cap hits for all players who are currently signed with the Buffalo Bills:\n",
      "[['Josh Allen', '$18,636,281'], ['Stefon Diggs', '$14,875,111'], ['Mitch Morse', '$11,360,000'], ['Dion Dawkins', '$10,966,794'], ['Micah Hyde', '$10,571,294'], ['Von Miller', '$7,939,000'], ['Taron Johnson', '$7,037,500'], ['Ed Oliver', '$4,978,000'], ['Jordan Poyer', '$4,880,000'], ['Tim Settle', '$4,324,000'], ['Connor McGovern', '$4,000,000'], ['Deonte Harty', '$3,984,500'], ['Siran Neal', '$3,313,333'], ['Gregory Rousseau', '$3,165,870'], ['Gabriel Davis', '$2,917,843'], ['Jordan Phillips', '$2,860,000'], ['Leonard Floyd', '$2,623,750'], ['Ryan Bates', '$2,619,000'], ['Dalton Kincaid', '$2,441,280'], ['Poona Ford', '$2,250,000'], ['Tyler Bass', '$2,076,056'], ['Reggie Gilliam', '$2,031,333'], ['Dane Jackson', '$2,010,000'], ['Tyrel Dodson', '$2,010,000'], ['A.J. Epenesa', '$1,870,051'], ['Tyler Matakevich', '$1,832,500'], ['Trent Sherfield', '$1,770,000'], ['David Edwards', '$1,770,000'], ['Taylor Rapp', '$1,770,000'], ['Sam Martin', '$1,665,000'], ['Linval Joseph', '$1,527,778'], ['James Cook', '$1,325,469'], ['Spencer Brown', '$1,318,554'], ['Cameron Lewis', '$1,185,000'], ['Terrel Bernard', '$1,166,560'], [\"O'Cyrus Torrence\", '$1,131,087'], ['Shaq Lawson', '$1,092,500'], ['Latavius Murray', '$1,092,500'], ['Kyle Allen', '$1,092,500'], ['Reid Ferguson', '$1,082,500'], ['Damar Hamlin', '$980,119'], ['Dorian Williams', '$978,692'], ['Khalil Shakir', '$956,788'], ['Germain Ifedi', '$940,000'], ['Christian Benford', '$918,570'], ['Kingsley Jonathan', '$871,750'], ['Quintin Morris', '$870,000'], ['Rasul Douglas', '$864,706'], ['Baylon Spector', '$786,210'], ['Ryan Van Demark', '$754,500'], ['Alec Anderson', '$754,250'], ['A.J. Klein', '$678,889'], ['Ty Johnson', '$626,667']]\n",
      "Request succeeded with status code 200\n",
      "Here are the Salary Cap hits for all players who are currently signed with the Miami Dolphins:\n",
      "[['Emmanuel Ogbah', '$17,185,294'], ['Tyreek Hill', '$12,823,750'], ['Jerome Baker', '$12,516,111'], ['Christian Wilkins', '$10,753,000'], ['Xavien Howard', '$10,071,281'], ['Tua Tagovailoa', '$9,633,093'], ['Terron Armstead', '$9,238,456'], ['Connor Williams', '$8,375,000'], ['Bradley Chubb', '$7,541,488'], ['Jaylen Waddle', '$7,387,090'], ['Cedrick Wilson Jr.', '$4,500,000'], ['Austin Jackson', '$4,340,112'], ['Robert Hunt', '$3,849,498'], ['Jaelan Phillips', '$3,823,147'], ['Braxton Berrios', '$3,500,000'], ['Zach Sieler', '$3,355,000'], ['David Long Jr.', '$3,290,000'], ['Durham Smythe', '$3,121,960'], ['Brandon Jones', '$3,019,018'], ['Jalen Ramsey', '$2,932,000'], ['Mike White', '$2,790,000'], ['Andrew Van Ginkel', '$2,650,000'], ['Alec Ingold', '$2,580,000'], ['Jason Sanders', '$2,449,000'], ['Jevon Holland', '$2,377,201'], ['Chase Claypool', '$2,327,889'], ['Jeff Wilson', '$2,202,500'], ['Raheem Mostert', '$2,187,941'], ['Liam Eichenberg', '$2,185,768'], ['Duke Riley', '$1,915,000'], ['Raekwon Davis', '$1,799,481'], ['DeShon Elliott', '$1,770,000'], ['Eli Apple', '$1,589,118'], ['Salvon Ahmed', '$1,410,000'], ['Cam Smith', '$1,277,897'], ['Nik Needham', '$1,232,500'], ['Blake Ferguson', '$1,195,113'], ['Channing Tindall', '$1,146,569'], ['Jake Bailey', '$1,092,500'], ['Kendall Lamm', '$1,049,265'], ['Tyler Kroft', '$1,040,000'], ['Justin Bethel', '$1,017,500'], ['Lester Cotton', '$1,010,000'], ['Elijah Campbell', '$1,010,000'], ['Robert Jones', '$950,000'], ['Skylar Thompson', '$890,552'], [\"Da'Shawn Hand\", '$887,778'], ['Kader Kohou', '$880,000'], ['Kion Smith', '$870,000'], ['Robbie Chosen', '$783,333'], ['River Cracraft', '$768,889'], ['Julian Hill', '$754,166'], ['Cameron Goode', '$625,000']]\n",
      "Request succeeded with status code 200\n",
      "Here are the Salary Cap hits for all players who are currently signed with the New England Patriots:\n",
      "[['Hunter Henry', '$15,500,000'], ['Trent Brown', '$12,213,235'], ['Davon Godchaux', '$10,500,000'], ['Deatrich Wise', '$8,700,000'], ['David Andrews', '$6,998,529'], ['Jonathan Jones', '$6,191,176'], [\"Ja'Whaun Bentley\", '$4,883,333'], ['JuJu Smith-Schuster', '$4,674,509'], ['Adrian Phillips', '$4,537,500'], ['Mike Gesicki', '$4,500,000'], ['Mac Jones', '$4,250,820'], ['DeVante Parker', '$3,686,666'], ['Kyle Dugger', '$3,647,891'], ['Lawrence Guy', '$3,573,529'], ['Jabrill Peppers', '$3,450,000'], ['Michael Onwenu', '$3,043,617'], ['Jalen Mills', '$2,919,118'], ['Ezekiel Elliott', '$2,900,000'], ['Cole Strange', '$2,785,448'], ['Myles Bryant', '$2,627,000'], ['Christian Barmore', '$2,324,255'], ['Jahlani Tavai', '$2,258,333'], ['Chris Board', '$2,102,500'], ['Josh Uche', '$1,714,789'], ['Tyquan Thornton', '$1,603,150'], ['Mack Wilson', '$1,600,000'], ['J.C. Jackson', '$1,555,556'], ['Joe Cardona', '$1,494,000'], ['Cody Davis', '$1,433,333'], ['Keion White', '$1,416,394'], ['Anfernee Jennings', '$1,390,195'], ['Ty Montgomery', '$1,380,000'], ['Matt Slater', '$1,317,500'], ['Rhamondre Stevenson', '$1,127,265'], ['Marte Mapu', '$1,011,583'], ['Jake Andrews', '$952,086'], ['Chad Ryland', '$946,687'], ['Sidy Sow', '$941,029'], ['Pharaoh Brown', '$940,000'], ['Shaun Wade', '$940,000'], ['Sam Roberts', '$912,869'], ['Brenden Schooler', '$875,000'], ['Bailey Zappe', '$870,000'], ['Vederian Lowe', '$870,000'], ['Will Grier', '$835,556'], ['Atonio Mafi', '$833,885'], ['Kayshon Boutte', '$796,812'], ['Bryce Baringer', '$794,614'], ['Demario Douglas', '$783,333'], ['Jalen Reagor', '$617,222'], ['JaMycal Hasty', '$500,588'], ['Alex Austin', '$416,667'], ['Jeremiah Pharms', '$416,667']]\n"
     ]
    },
    {
     "ename": "KeyboardInterrupt",
     "evalue": "",
     "output_type": "error",
     "traceback": [
      "\u001b[0;31m---------------------------------------------------------------------------\u001b[0m",
      "\u001b[0;31mKeyboardInterrupt\u001b[0m                         Traceback (most recent call last)",
      "Cell \u001b[0;32mIn[8], line 17\u001b[0m\n\u001b[1;32m     14\u001b[0m     \u001b[38;5;28;01mfor\u001b[39;00m team \u001b[38;5;129;01min\u001b[39;00m TeamList:\n\u001b[1;32m     15\u001b[0m         GetTeamSalaryCapHits(team)\n\u001b[0;32m---> 17\u001b[0m \u001b[43mGetAllTeamSalaryCapHits\u001b[49m\u001b[43m(\u001b[49m\u001b[43mNFLTeams\u001b[49m\u001b[43m)\u001b[49m\n",
      "Cell \u001b[0;32mIn[8], line 15\u001b[0m, in \u001b[0;36mGetAllTeamSalaryCapHits\u001b[0;34m(TeamList)\u001b[0m\n\u001b[1;32m     13\u001b[0m \u001b[38;5;28;01mdef\u001b[39;00m \u001b[38;5;21mGetAllTeamSalaryCapHits\u001b[39m(TeamList):\n\u001b[1;32m     14\u001b[0m     \u001b[38;5;28;01mfor\u001b[39;00m team \u001b[38;5;129;01min\u001b[39;00m TeamList:\n\u001b[0;32m---> 15\u001b[0m         \u001b[43mGetTeamSalaryCapHits\u001b[49m\u001b[43m(\u001b[49m\u001b[43mteam\u001b[49m\u001b[43m)\u001b[49m\n",
      "Cell \u001b[0;32mIn[7], line 5\u001b[0m, in \u001b[0;36mGetTeamSalaryCapHits\u001b[0;34m(team)\u001b[0m\n\u001b[1;32m      3\u001b[0m \u001b[38;5;28;01mdef\u001b[39;00m \u001b[38;5;21mGetTeamSalaryCapHits\u001b[39m(team):\n\u001b[1;32m      4\u001b[0m     \u001b[38;5;66;03m# Use requests to get the raw HTML response\u001b[39;00m\n\u001b[0;32m----> 5\u001b[0m     OTCResponse \u001b[38;5;241m=\u001b[39m \u001b[43mrequests\u001b[49m\u001b[38;5;241;43m.\u001b[39;49m\u001b[43mget\u001b[49m\u001b[43m(\u001b[49m\u001b[38;5;124;43mf\u001b[39;49m\u001b[38;5;124;43m'\u001b[39;49m\u001b[38;5;124;43mhttps://overthecap.com/salary-cap/\u001b[39;49m\u001b[38;5;132;43;01m{\u001b[39;49;00m\u001b[43mteam\u001b[49m\u001b[43m[\u001b[49m\u001b[43m:\u001b[49m\u001b[38;5;241;43m-\u001b[39;49m\u001b[38;5;241;43m4\u001b[39;49m\u001b[43m]\u001b[49m\u001b[38;5;132;43;01m}\u001b[39;49;00m\u001b[38;5;124;43m'\u001b[39;49m\u001b[43m)\u001b[49m\n\u001b[1;32m      7\u001b[0m     \u001b[38;5;66;03m# If we get a normal response proceed with data scraping\u001b[39;00m\n\u001b[1;32m      8\u001b[0m     \u001b[38;5;28;01mif\u001b[39;00m OTCResponse\u001b[38;5;241m.\u001b[39mstatus_code \u001b[38;5;241m==\u001b[39m \u001b[38;5;241m200\u001b[39m:\n",
      "File \u001b[0;32m~/.local/lib/python3.8/site-packages/requests/api.py:73\u001b[0m, in \u001b[0;36mget\u001b[0;34m(url, params, **kwargs)\u001b[0m\n\u001b[1;32m     62\u001b[0m \u001b[38;5;28;01mdef\u001b[39;00m \u001b[38;5;21mget\u001b[39m(url, params\u001b[38;5;241m=\u001b[39m\u001b[38;5;28;01mNone\u001b[39;00m, \u001b[38;5;241m*\u001b[39m\u001b[38;5;241m*\u001b[39mkwargs):\n\u001b[1;32m     63\u001b[0m \u001b[38;5;250m    \u001b[39m\u001b[38;5;124mr\u001b[39m\u001b[38;5;124;03m\"\"\"Sends a GET request.\u001b[39;00m\n\u001b[1;32m     64\u001b[0m \n\u001b[1;32m     65\u001b[0m \u001b[38;5;124;03m    :param url: URL for the new :class:`Request` object.\u001b[39;00m\n\u001b[0;32m   (...)\u001b[0m\n\u001b[1;32m     70\u001b[0m \u001b[38;5;124;03m    :rtype: requests.Response\u001b[39;00m\n\u001b[1;32m     71\u001b[0m \u001b[38;5;124;03m    \"\"\"\u001b[39;00m\n\u001b[0;32m---> 73\u001b[0m     \u001b[38;5;28;01mreturn\u001b[39;00m \u001b[43mrequest\u001b[49m\u001b[43m(\u001b[49m\u001b[38;5;124;43m\"\u001b[39;49m\u001b[38;5;124;43mget\u001b[39;49m\u001b[38;5;124;43m\"\u001b[39;49m\u001b[43m,\u001b[49m\u001b[43m \u001b[49m\u001b[43murl\u001b[49m\u001b[43m,\u001b[49m\u001b[43m \u001b[49m\u001b[43mparams\u001b[49m\u001b[38;5;241;43m=\u001b[39;49m\u001b[43mparams\u001b[49m\u001b[43m,\u001b[49m\u001b[43m \u001b[49m\u001b[38;5;241;43m*\u001b[39;49m\u001b[38;5;241;43m*\u001b[39;49m\u001b[43mkwargs\u001b[49m\u001b[43m)\u001b[49m\n",
      "File \u001b[0;32m~/.local/lib/python3.8/site-packages/requests/api.py:59\u001b[0m, in \u001b[0;36mrequest\u001b[0;34m(method, url, **kwargs)\u001b[0m\n\u001b[1;32m     55\u001b[0m \u001b[38;5;66;03m# By using the 'with' statement we are sure the session is closed, thus we\u001b[39;00m\n\u001b[1;32m     56\u001b[0m \u001b[38;5;66;03m# avoid leaving sockets open which can trigger a ResourceWarning in some\u001b[39;00m\n\u001b[1;32m     57\u001b[0m \u001b[38;5;66;03m# cases, and look like a memory leak in others.\u001b[39;00m\n\u001b[1;32m     58\u001b[0m \u001b[38;5;28;01mwith\u001b[39;00m sessions\u001b[38;5;241m.\u001b[39mSession() \u001b[38;5;28;01mas\u001b[39;00m session:\n\u001b[0;32m---> 59\u001b[0m     \u001b[38;5;28;01mreturn\u001b[39;00m \u001b[43msession\u001b[49m\u001b[38;5;241;43m.\u001b[39;49m\u001b[43mrequest\u001b[49m\u001b[43m(\u001b[49m\u001b[43mmethod\u001b[49m\u001b[38;5;241;43m=\u001b[39;49m\u001b[43mmethod\u001b[49m\u001b[43m,\u001b[49m\u001b[43m \u001b[49m\u001b[43murl\u001b[49m\u001b[38;5;241;43m=\u001b[39;49m\u001b[43murl\u001b[49m\u001b[43m,\u001b[49m\u001b[43m \u001b[49m\u001b[38;5;241;43m*\u001b[39;49m\u001b[38;5;241;43m*\u001b[39;49m\u001b[43mkwargs\u001b[49m\u001b[43m)\u001b[49m\n",
      "File \u001b[0;32m~/.local/lib/python3.8/site-packages/requests/sessions.py:589\u001b[0m, in \u001b[0;36mSession.request\u001b[0;34m(self, method, url, params, data, headers, cookies, files, auth, timeout, allow_redirects, proxies, hooks, stream, verify, cert, json)\u001b[0m\n\u001b[1;32m    584\u001b[0m send_kwargs \u001b[38;5;241m=\u001b[39m {\n\u001b[1;32m    585\u001b[0m     \u001b[38;5;124m\"\u001b[39m\u001b[38;5;124mtimeout\u001b[39m\u001b[38;5;124m\"\u001b[39m: timeout,\n\u001b[1;32m    586\u001b[0m     \u001b[38;5;124m\"\u001b[39m\u001b[38;5;124mallow_redirects\u001b[39m\u001b[38;5;124m\"\u001b[39m: allow_redirects,\n\u001b[1;32m    587\u001b[0m }\n\u001b[1;32m    588\u001b[0m send_kwargs\u001b[38;5;241m.\u001b[39mupdate(settings)\n\u001b[0;32m--> 589\u001b[0m resp \u001b[38;5;241m=\u001b[39m \u001b[38;5;28;43mself\u001b[39;49m\u001b[38;5;241;43m.\u001b[39;49m\u001b[43msend\u001b[49m\u001b[43m(\u001b[49m\u001b[43mprep\u001b[49m\u001b[43m,\u001b[49m\u001b[43m \u001b[49m\u001b[38;5;241;43m*\u001b[39;49m\u001b[38;5;241;43m*\u001b[39;49m\u001b[43msend_kwargs\u001b[49m\u001b[43m)\u001b[49m\n\u001b[1;32m    591\u001b[0m \u001b[38;5;28;01mreturn\u001b[39;00m resp\n",
      "File \u001b[0;32m~/.local/lib/python3.8/site-packages/requests/sessions.py:703\u001b[0m, in \u001b[0;36mSession.send\u001b[0;34m(self, request, **kwargs)\u001b[0m\n\u001b[1;32m    700\u001b[0m start \u001b[38;5;241m=\u001b[39m preferred_clock()\n\u001b[1;32m    702\u001b[0m \u001b[38;5;66;03m# Send the request\u001b[39;00m\n\u001b[0;32m--> 703\u001b[0m r \u001b[38;5;241m=\u001b[39m \u001b[43madapter\u001b[49m\u001b[38;5;241;43m.\u001b[39;49m\u001b[43msend\u001b[49m\u001b[43m(\u001b[49m\u001b[43mrequest\u001b[49m\u001b[43m,\u001b[49m\u001b[43m \u001b[49m\u001b[38;5;241;43m*\u001b[39;49m\u001b[38;5;241;43m*\u001b[39;49m\u001b[43mkwargs\u001b[49m\u001b[43m)\u001b[49m\n\u001b[1;32m    705\u001b[0m \u001b[38;5;66;03m# Total elapsed time of the request (approximately)\u001b[39;00m\n\u001b[1;32m    706\u001b[0m elapsed \u001b[38;5;241m=\u001b[39m preferred_clock() \u001b[38;5;241m-\u001b[39m start\n",
      "File \u001b[0;32m~/.local/lib/python3.8/site-packages/requests/adapters.py:486\u001b[0m, in \u001b[0;36mHTTPAdapter.send\u001b[0;34m(self, request, stream, timeout, verify, cert, proxies)\u001b[0m\n\u001b[1;32m    483\u001b[0m     timeout \u001b[38;5;241m=\u001b[39m TimeoutSauce(connect\u001b[38;5;241m=\u001b[39mtimeout, read\u001b[38;5;241m=\u001b[39mtimeout)\n\u001b[1;32m    485\u001b[0m \u001b[38;5;28;01mtry\u001b[39;00m:\n\u001b[0;32m--> 486\u001b[0m     resp \u001b[38;5;241m=\u001b[39m \u001b[43mconn\u001b[49m\u001b[38;5;241;43m.\u001b[39;49m\u001b[43murlopen\u001b[49m\u001b[43m(\u001b[49m\n\u001b[1;32m    487\u001b[0m \u001b[43m        \u001b[49m\u001b[43mmethod\u001b[49m\u001b[38;5;241;43m=\u001b[39;49m\u001b[43mrequest\u001b[49m\u001b[38;5;241;43m.\u001b[39;49m\u001b[43mmethod\u001b[49m\u001b[43m,\u001b[49m\n\u001b[1;32m    488\u001b[0m \u001b[43m        \u001b[49m\u001b[43murl\u001b[49m\u001b[38;5;241;43m=\u001b[39;49m\u001b[43murl\u001b[49m\u001b[43m,\u001b[49m\n\u001b[1;32m    489\u001b[0m \u001b[43m        \u001b[49m\u001b[43mbody\u001b[49m\u001b[38;5;241;43m=\u001b[39;49m\u001b[43mrequest\u001b[49m\u001b[38;5;241;43m.\u001b[39;49m\u001b[43mbody\u001b[49m\u001b[43m,\u001b[49m\n\u001b[1;32m    490\u001b[0m \u001b[43m        \u001b[49m\u001b[43mheaders\u001b[49m\u001b[38;5;241;43m=\u001b[39;49m\u001b[43mrequest\u001b[49m\u001b[38;5;241;43m.\u001b[39;49m\u001b[43mheaders\u001b[49m\u001b[43m,\u001b[49m\n\u001b[1;32m    491\u001b[0m \u001b[43m        \u001b[49m\u001b[43mredirect\u001b[49m\u001b[38;5;241;43m=\u001b[39;49m\u001b[38;5;28;43;01mFalse\u001b[39;49;00m\u001b[43m,\u001b[49m\n\u001b[1;32m    492\u001b[0m \u001b[43m        \u001b[49m\u001b[43massert_same_host\u001b[49m\u001b[38;5;241;43m=\u001b[39;49m\u001b[38;5;28;43;01mFalse\u001b[39;49;00m\u001b[43m,\u001b[49m\n\u001b[1;32m    493\u001b[0m \u001b[43m        \u001b[49m\u001b[43mpreload_content\u001b[49m\u001b[38;5;241;43m=\u001b[39;49m\u001b[38;5;28;43;01mFalse\u001b[39;49;00m\u001b[43m,\u001b[49m\n\u001b[1;32m    494\u001b[0m \u001b[43m        \u001b[49m\u001b[43mdecode_content\u001b[49m\u001b[38;5;241;43m=\u001b[39;49m\u001b[38;5;28;43;01mFalse\u001b[39;49;00m\u001b[43m,\u001b[49m\n\u001b[1;32m    495\u001b[0m \u001b[43m        \u001b[49m\u001b[43mretries\u001b[49m\u001b[38;5;241;43m=\u001b[39;49m\u001b[38;5;28;43mself\u001b[39;49m\u001b[38;5;241;43m.\u001b[39;49m\u001b[43mmax_retries\u001b[49m\u001b[43m,\u001b[49m\n\u001b[1;32m    496\u001b[0m \u001b[43m        \u001b[49m\u001b[43mtimeout\u001b[49m\u001b[38;5;241;43m=\u001b[39;49m\u001b[43mtimeout\u001b[49m\u001b[43m,\u001b[49m\n\u001b[1;32m    497\u001b[0m \u001b[43m        \u001b[49m\u001b[43mchunked\u001b[49m\u001b[38;5;241;43m=\u001b[39;49m\u001b[43mchunked\u001b[49m\u001b[43m,\u001b[49m\n\u001b[1;32m    498\u001b[0m \u001b[43m    \u001b[49m\u001b[43m)\u001b[49m\n\u001b[1;32m    500\u001b[0m \u001b[38;5;28;01mexcept\u001b[39;00m (ProtocolError, \u001b[38;5;167;01mOSError\u001b[39;00m) \u001b[38;5;28;01mas\u001b[39;00m err:\n\u001b[1;32m    501\u001b[0m     \u001b[38;5;28;01mraise\u001b[39;00m \u001b[38;5;167;01mConnectionError\u001b[39;00m(err, request\u001b[38;5;241m=\u001b[39mrequest)\n",
      "File \u001b[0;32m~/.local/lib/python3.8/site-packages/urllib3/connectionpool.py:790\u001b[0m, in \u001b[0;36mHTTPConnectionPool.urlopen\u001b[0;34m(self, method, url, body, headers, retries, redirect, assert_same_host, timeout, pool_timeout, release_conn, chunked, body_pos, preload_content, decode_content, **response_kw)\u001b[0m\n\u001b[1;32m    787\u001b[0m response_conn \u001b[38;5;241m=\u001b[39m conn \u001b[38;5;28;01mif\u001b[39;00m \u001b[38;5;129;01mnot\u001b[39;00m release_conn \u001b[38;5;28;01melse\u001b[39;00m \u001b[38;5;28;01mNone\u001b[39;00m\n\u001b[1;32m    789\u001b[0m \u001b[38;5;66;03m# Make the request on the HTTPConnection object\u001b[39;00m\n\u001b[0;32m--> 790\u001b[0m response \u001b[38;5;241m=\u001b[39m \u001b[38;5;28;43mself\u001b[39;49m\u001b[38;5;241;43m.\u001b[39;49m\u001b[43m_make_request\u001b[49m\u001b[43m(\u001b[49m\n\u001b[1;32m    791\u001b[0m \u001b[43m    \u001b[49m\u001b[43mconn\u001b[49m\u001b[43m,\u001b[49m\n\u001b[1;32m    792\u001b[0m \u001b[43m    \u001b[49m\u001b[43mmethod\u001b[49m\u001b[43m,\u001b[49m\n\u001b[1;32m    793\u001b[0m \u001b[43m    \u001b[49m\u001b[43murl\u001b[49m\u001b[43m,\u001b[49m\n\u001b[1;32m    794\u001b[0m \u001b[43m    \u001b[49m\u001b[43mtimeout\u001b[49m\u001b[38;5;241;43m=\u001b[39;49m\u001b[43mtimeout_obj\u001b[49m\u001b[43m,\u001b[49m\n\u001b[1;32m    795\u001b[0m \u001b[43m    \u001b[49m\u001b[43mbody\u001b[49m\u001b[38;5;241;43m=\u001b[39;49m\u001b[43mbody\u001b[49m\u001b[43m,\u001b[49m\n\u001b[1;32m    796\u001b[0m \u001b[43m    \u001b[49m\u001b[43mheaders\u001b[49m\u001b[38;5;241;43m=\u001b[39;49m\u001b[43mheaders\u001b[49m\u001b[43m,\u001b[49m\n\u001b[1;32m    797\u001b[0m \u001b[43m    \u001b[49m\u001b[43mchunked\u001b[49m\u001b[38;5;241;43m=\u001b[39;49m\u001b[43mchunked\u001b[49m\u001b[43m,\u001b[49m\n\u001b[1;32m    798\u001b[0m \u001b[43m    \u001b[49m\u001b[43mretries\u001b[49m\u001b[38;5;241;43m=\u001b[39;49m\u001b[43mretries\u001b[49m\u001b[43m,\u001b[49m\n\u001b[1;32m    799\u001b[0m \u001b[43m    \u001b[49m\u001b[43mresponse_conn\u001b[49m\u001b[38;5;241;43m=\u001b[39;49m\u001b[43mresponse_conn\u001b[49m\u001b[43m,\u001b[49m\n\u001b[1;32m    800\u001b[0m \u001b[43m    \u001b[49m\u001b[43mpreload_content\u001b[49m\u001b[38;5;241;43m=\u001b[39;49m\u001b[43mpreload_content\u001b[49m\u001b[43m,\u001b[49m\n\u001b[1;32m    801\u001b[0m \u001b[43m    \u001b[49m\u001b[43mdecode_content\u001b[49m\u001b[38;5;241;43m=\u001b[39;49m\u001b[43mdecode_content\u001b[49m\u001b[43m,\u001b[49m\n\u001b[1;32m    802\u001b[0m \u001b[43m    \u001b[49m\u001b[38;5;241;43m*\u001b[39;49m\u001b[38;5;241;43m*\u001b[39;49m\u001b[43mresponse_kw\u001b[49m\u001b[43m,\u001b[49m\n\u001b[1;32m    803\u001b[0m \u001b[43m\u001b[49m\u001b[43m)\u001b[49m\n\u001b[1;32m    805\u001b[0m \u001b[38;5;66;03m# Everything went great!\u001b[39;00m\n\u001b[1;32m    806\u001b[0m clean_exit \u001b[38;5;241m=\u001b[39m \u001b[38;5;28;01mTrue\u001b[39;00m\n",
      "File \u001b[0;32m~/.local/lib/python3.8/site-packages/urllib3/connectionpool.py:467\u001b[0m, in \u001b[0;36mHTTPConnectionPool._make_request\u001b[0;34m(self, conn, method, url, body, headers, retries, timeout, chunked, response_conn, preload_content, decode_content, enforce_content_length)\u001b[0m\n\u001b[1;32m    464\u001b[0m \u001b[38;5;28;01mtry\u001b[39;00m:\n\u001b[1;32m    465\u001b[0m     \u001b[38;5;66;03m# Trigger any extra validation we need to do.\u001b[39;00m\n\u001b[1;32m    466\u001b[0m     \u001b[38;5;28;01mtry\u001b[39;00m:\n\u001b[0;32m--> 467\u001b[0m         \u001b[38;5;28;43mself\u001b[39;49m\u001b[38;5;241;43m.\u001b[39;49m\u001b[43m_validate_conn\u001b[49m\u001b[43m(\u001b[49m\u001b[43mconn\u001b[49m\u001b[43m)\u001b[49m\n\u001b[1;32m    468\u001b[0m     \u001b[38;5;28;01mexcept\u001b[39;00m (SocketTimeout, BaseSSLError) \u001b[38;5;28;01mas\u001b[39;00m e:\n\u001b[1;32m    469\u001b[0m         \u001b[38;5;28mself\u001b[39m\u001b[38;5;241m.\u001b[39m_raise_timeout(err\u001b[38;5;241m=\u001b[39me, url\u001b[38;5;241m=\u001b[39murl, timeout_value\u001b[38;5;241m=\u001b[39mconn\u001b[38;5;241m.\u001b[39mtimeout)\n",
      "File \u001b[0;32m~/.local/lib/python3.8/site-packages/urllib3/connectionpool.py:1092\u001b[0m, in \u001b[0;36mHTTPSConnectionPool._validate_conn\u001b[0;34m(self, conn)\u001b[0m\n\u001b[1;32m   1090\u001b[0m \u001b[38;5;66;03m# Force connect early to allow us to validate the connection.\u001b[39;00m\n\u001b[1;32m   1091\u001b[0m \u001b[38;5;28;01mif\u001b[39;00m conn\u001b[38;5;241m.\u001b[39mis_closed:\n\u001b[0;32m-> 1092\u001b[0m     \u001b[43mconn\u001b[49m\u001b[38;5;241;43m.\u001b[39;49m\u001b[43mconnect\u001b[49m\u001b[43m(\u001b[49m\u001b[43m)\u001b[49m\n\u001b[1;32m   1094\u001b[0m \u001b[38;5;28;01mif\u001b[39;00m \u001b[38;5;129;01mnot\u001b[39;00m conn\u001b[38;5;241m.\u001b[39mis_verified:\n\u001b[1;32m   1095\u001b[0m     warnings\u001b[38;5;241m.\u001b[39mwarn(\n\u001b[1;32m   1096\u001b[0m         (\n\u001b[1;32m   1097\u001b[0m             \u001b[38;5;124mf\u001b[39m\u001b[38;5;124m\"\u001b[39m\u001b[38;5;124mUnverified HTTPS request is being made to host \u001b[39m\u001b[38;5;124m'\u001b[39m\u001b[38;5;132;01m{\u001b[39;00mconn\u001b[38;5;241m.\u001b[39mhost\u001b[38;5;132;01m}\u001b[39;00m\u001b[38;5;124m'\u001b[39m\u001b[38;5;124m. \u001b[39m\u001b[38;5;124m\"\u001b[39m\n\u001b[0;32m   (...)\u001b[0m\n\u001b[1;32m   1102\u001b[0m         InsecureRequestWarning,\n\u001b[1;32m   1103\u001b[0m     )\n",
      "File \u001b[0;32m~/.local/lib/python3.8/site-packages/urllib3/connection.py:604\u001b[0m, in \u001b[0;36mHTTPSConnection.connect\u001b[0;34m(self)\u001b[0m\n\u001b[1;32m    602\u001b[0m \u001b[38;5;28;01mdef\u001b[39;00m \u001b[38;5;21mconnect\u001b[39m(\u001b[38;5;28mself\u001b[39m) \u001b[38;5;241m-\u001b[39m\u001b[38;5;241m>\u001b[39m \u001b[38;5;28;01mNone\u001b[39;00m:\n\u001b[1;32m    603\u001b[0m     sock: socket\u001b[38;5;241m.\u001b[39msocket \u001b[38;5;241m|\u001b[39m ssl\u001b[38;5;241m.\u001b[39mSSLSocket\n\u001b[0;32m--> 604\u001b[0m     \u001b[38;5;28mself\u001b[39m\u001b[38;5;241m.\u001b[39msock \u001b[38;5;241m=\u001b[39m sock \u001b[38;5;241m=\u001b[39m \u001b[38;5;28;43mself\u001b[39;49m\u001b[38;5;241;43m.\u001b[39;49m\u001b[43m_new_conn\u001b[49m\u001b[43m(\u001b[49m\u001b[43m)\u001b[49m\n\u001b[1;32m    605\u001b[0m     server_hostname: \u001b[38;5;28mstr\u001b[39m \u001b[38;5;241m=\u001b[39m \u001b[38;5;28mself\u001b[39m\u001b[38;5;241m.\u001b[39mhost\n\u001b[1;32m    606\u001b[0m     tls_in_tls \u001b[38;5;241m=\u001b[39m \u001b[38;5;28;01mFalse\u001b[39;00m\n",
      "File \u001b[0;32m~/.local/lib/python3.8/site-packages/urllib3/connection.py:200\u001b[0m, in \u001b[0;36mHTTPConnection._new_conn\u001b[0;34m(self)\u001b[0m\n\u001b[1;32m    195\u001b[0m \u001b[38;5;250m\u001b[39m\u001b[38;5;124;03m\"\"\"Establish a socket connection and set nodelay settings on it.\u001b[39;00m\n\u001b[1;32m    196\u001b[0m \n\u001b[1;32m    197\u001b[0m \u001b[38;5;124;03m:return: New socket connection.\u001b[39;00m\n\u001b[1;32m    198\u001b[0m \u001b[38;5;124;03m\"\"\"\u001b[39;00m\n\u001b[1;32m    199\u001b[0m \u001b[38;5;28;01mtry\u001b[39;00m:\n\u001b[0;32m--> 200\u001b[0m     sock \u001b[38;5;241m=\u001b[39m \u001b[43mconnection\u001b[49m\u001b[38;5;241;43m.\u001b[39;49m\u001b[43mcreate_connection\u001b[49m\u001b[43m(\u001b[49m\n\u001b[1;32m    201\u001b[0m \u001b[43m        \u001b[49m\u001b[43m(\u001b[49m\u001b[38;5;28;43mself\u001b[39;49m\u001b[38;5;241;43m.\u001b[39;49m\u001b[43m_dns_host\u001b[49m\u001b[43m,\u001b[49m\u001b[43m \u001b[49m\u001b[38;5;28;43mself\u001b[39;49m\u001b[38;5;241;43m.\u001b[39;49m\u001b[43mport\u001b[49m\u001b[43m)\u001b[49m\u001b[43m,\u001b[49m\n\u001b[1;32m    202\u001b[0m \u001b[43m        \u001b[49m\u001b[38;5;28;43mself\u001b[39;49m\u001b[38;5;241;43m.\u001b[39;49m\u001b[43mtimeout\u001b[49m\u001b[43m,\u001b[49m\n\u001b[1;32m    203\u001b[0m \u001b[43m        \u001b[49m\u001b[43msource_address\u001b[49m\u001b[38;5;241;43m=\u001b[39;49m\u001b[38;5;28;43mself\u001b[39;49m\u001b[38;5;241;43m.\u001b[39;49m\u001b[43msource_address\u001b[49m\u001b[43m,\u001b[49m\n\u001b[1;32m    204\u001b[0m \u001b[43m        \u001b[49m\u001b[43msocket_options\u001b[49m\u001b[38;5;241;43m=\u001b[39;49m\u001b[38;5;28;43mself\u001b[39;49m\u001b[38;5;241;43m.\u001b[39;49m\u001b[43msocket_options\u001b[49m\u001b[43m,\u001b[49m\n\u001b[1;32m    205\u001b[0m \u001b[43m    \u001b[49m\u001b[43m)\u001b[49m\n\u001b[1;32m    206\u001b[0m \u001b[38;5;28;01mexcept\u001b[39;00m socket\u001b[38;5;241m.\u001b[39mgaierror \u001b[38;5;28;01mas\u001b[39;00m e:\n\u001b[1;32m    207\u001b[0m     \u001b[38;5;28;01mraise\u001b[39;00m NameResolutionError(\u001b[38;5;28mself\u001b[39m\u001b[38;5;241m.\u001b[39mhost, \u001b[38;5;28mself\u001b[39m, e) \u001b[38;5;28;01mfrom\u001b[39;00m \u001b[38;5;21;01me\u001b[39;00m\n",
      "File \u001b[0;32m~/.local/lib/python3.8/site-packages/urllib3/util/connection.py:73\u001b[0m, in \u001b[0;36mcreate_connection\u001b[0;34m(address, timeout, source_address, socket_options)\u001b[0m\n\u001b[1;32m     71\u001b[0m \u001b[38;5;28;01mif\u001b[39;00m source_address:\n\u001b[1;32m     72\u001b[0m     sock\u001b[38;5;241m.\u001b[39mbind(source_address)\n\u001b[0;32m---> 73\u001b[0m \u001b[43msock\u001b[49m\u001b[38;5;241;43m.\u001b[39;49m\u001b[43mconnect\u001b[49m\u001b[43m(\u001b[49m\u001b[43msa\u001b[49m\u001b[43m)\u001b[49m\n\u001b[1;32m     74\u001b[0m \u001b[38;5;66;03m# Break explicitly a reference cycle\u001b[39;00m\n\u001b[1;32m     75\u001b[0m err \u001b[38;5;241m=\u001b[39m \u001b[38;5;28;01mNone\u001b[39;00m\n",
      "\u001b[0;31mKeyboardInterrupt\u001b[0m: "
     ]
    }
   ],
   "source": [
    "# A list of links to Over The Cap Salary Cap pages for various teams\n",
    "NFLTeams = ['buffalo-bills BUF', 'miami-dolphins MIA', 'new-england-patriots NE0', 'new-york-jets NYJ',\n",
    "            'baltimore-ravens BAL', 'cincinnati-bengals CIN', 'cleveland-browns CLE', 'pittsburgh-steelers PIT',\n",
    "            'houston-texans HOU', 'indianapolis-colts IND', 'jacksonville-jaguars JAX', 'tennessee-titans TEN', \n",
    "            'denver-broncos DEN', 'kansas-city-chiefs KC0', 'las-vegas-raiders LV0', 'los-angeles-chargers LAC',\n",
    "            'dallas-cowboys DAL', 'new-york-giants NYG', 'philadelphia-eagles PHI', 'washington-commanders WSH',\n",
    "            'chicago-bears CHI', 'detroit-lions DET', 'green-bay-packers GB0', 'minnesota-vikings MIN',\n",
    "            'atlanta-falcons ATL', 'carolina-panthers CAR', 'new-orleans-saints NO0', 'tampa-bay-buccaneers TB0',\n",
    "            'arizona-cardinals ARI', 'los-angeles-rams LAR', 'san-francisco-49ers SF0', 'seattle-seahawks SEA'\n",
    "           ]\n",
    "\n",
    "# Call the method defined above to get all the player data\n",
    "def GetAllTeamSalaryCapHits(TeamList):\n",
    "    for team in TeamList:\n",
    "        GetTeamSalaryCapHits(team)\n",
    "\n",
    "GetAllTeamSalaryCapHits(NFLTeams)"
   ]
  },
  {
   "cell_type": "code",
   "execution_count": null,
   "id": "5acd769b",
   "metadata": {},
   "outputs": [],
   "source": []
  }
 ],
 "metadata": {
  "kernelspec": {
   "display_name": "Python 3 (ipykernel)",
   "language": "python",
   "name": "python3"
  },
  "language_info": {
   "codemirror_mode": {
    "name": "ipython",
    "version": 3
   },
   "file_extension": ".py",
   "mimetype": "text/x-python",
   "name": "python",
   "nbconvert_exporter": "python",
   "pygments_lexer": "ipython3",
   "version": "3.8.10"
  }
 },
 "nbformat": 4,
 "nbformat_minor": 5
}
