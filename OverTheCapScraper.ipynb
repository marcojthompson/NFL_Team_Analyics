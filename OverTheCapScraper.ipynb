{
 "cells": [
  {
   "cell_type": "code",
   "execution_count": 1,
   "id": "603f188e",
   "metadata": {},
   "outputs": [],
   "source": [
    "# Header block to include all modules that must be imported ahead of time\n",
    "# Only needs to be run once per session, and each time a new module is added\n",
    "\n",
    "import requests\n",
    "from bs4 import BeautifulSoup\n",
    "import json\n",
    "import pandas as pd # this will need to be installed via command line first\n",
    "import lxml # this will need to be installed via command line first(as well)"
   ]
  },
  {
   "cell_type": "code",
   "execution_count": 26,
   "id": "e1f1d9a5",
   "metadata": {},
   "outputs": [],
   "source": [
    "# Method to get the salary cap hits for every player currently signed on an NFL team\n",
    "\n",
    "def GetTeamSalaryCapHits(team):\n",
    "    # Use requests to get the raw HTML response\n",
    "    OTCResponse = requests.get(f'https://overthecap.com/salary-cap/{team[:-4]}')\n",
    "        \n",
    "    # If we get a normal response proceed with data scraping\n",
    "    if OTCResponse.status_code == 200:\n",
    "        print(f\"Request succeeded with status code {OTCResponse.status_code}\")\n",
    "        TeamNameCaptalized = (team[:-4].replace(\"-\", \" \")).title()\n",
    "        print(f\"Here are the Salary Cap hits for all players who are currently signed with the {TeamNameCaptalized}:\")\n",
    "\n",
    "        # Pandas read_html method allows the table contents to be put into a DataFrame\n",
    "        table_tag = 'salary-cap-table contracted-players'\n",
    "        DataFrames = pd.read_html(OTCResponse.content, attrs={'class': table_tag})\n",
    "        #print(DataFrames[0])\n",
    "        print(DataFrames[0].head()[['Player', 'Base Salary']])\n",
    "\n",
    "        # Then the first DataFrame can be converted to a list of dictionaries for each row\n",
    "        SalaryTable = DataFrames[0].to_dict('records') # using records attribute turns each row into a dictionary\n",
    "        \n",
    "        # The 52nd element in the list of dicitionaries is a placeholder for the Top 51 cutoff\n",
    "        if len(SalaryTable) > 52:\n",
    "            # Delete the 52nd element of the Salary Table if the team has at least 51 players signed\n",
    "            del SalaryTable[51]\n",
    "\n",
    "        # Create a list to store salary data\n",
    "        SalaryPlayerList = []\n",
    "        \"\"\"\n",
    "        # Populate list with lists that include playname and salary cap hit\n",
    "        for player in SalaryTable:\n",
    "            #Key into the dictionary and get player name and cap hit \n",
    "            PlayerCapHit = [player[('Player', 'Player')], player[('Cap Number', 'Cap Number')]]\n",
    "            SalaryPlayerList.append(PlayerCapHit)\n",
    "\n",
    "        print(SalaryPlayerList)\n",
    "        \"\"\"\n",
    "\n",
    "    # If we don't get a normal reponse, stop scraping\n",
    "    else:\n",
    "        print(f\"Request failed with status code {OTCResponse.status_code}\")\n",
    "        return -1\n"
   ]
  },
  {
   "cell_type": "code",
   "execution_count": 27,
   "id": "0e70a908",
   "metadata": {
    "scrolled": true
   },
   "outputs": [
    {
     "name": "stdout",
     "output_type": "stream",
     "text": [
      "Request succeeded with status code 200\n",
      "Here are the Salary Cap hits for all players who are currently signed with the Buffalo Bills:\n",
      "         Player Base Salary\n",
      "         Player Base Salary\n",
      "0    Josh Allen  $1,080,000\n",
      "1  Stefon Diggs  $1,165,000\n",
      "2   Mitch Morse  $6,640,000\n",
      "3  Dion Dawkins  $3,671,667\n",
      "4    Micah Hyde  $5,300,000\n"
     ]
    }
   ],
   "source": [
    "# A list of links to Over The Cap Salary Cap pages for various teams\n",
    "NFLTeams = ['buffalo-bills BUF', 'miami-dolphins MIA', 'new-england-patriots NE0', 'new-york-jets NYJ',\n",
    "            'baltimore-ravens BAL', 'cincinnati-bengals CIN', 'cleveland-browns CLE', 'pittsburgh-steelers PIT',\n",
    "            'houston-texans HOU', 'indianapolis-colts IND', 'jacksonville-jaguars JAX', 'tennessee-titans TEN', \n",
    "            'denver-broncos DEN', 'kansas-city-chiefs KC0', 'las-vegas-raiders LV0', 'los-angeles-chargers LAC',\n",
    "            'dallas-cowboys DAL', 'new-york-giants NYG', 'philadelphia-eagles PHI', 'washington-commanders WSH',\n",
    "            'chicago-bears CHI', 'detroit-lions DET', 'green-bay-packers GB0', 'minnesota-vikings MIN',\n",
    "            'atlanta-falcons ATL', 'carolina-panthers CAR', 'new-orleans-saints NO0', 'tampa-bay-buccaneers TB0',\n",
    "            'arizona-cardinals ARI', 'los-angeles-rams LAR', 'san-francisco-49ers SF0', 'seattle-seahawks SEA'\n",
    "           ]\n",
    "\n",
    "# Call the method defined above to get all the player data\n",
    "def GetAllTeamSalaryCapHits(TeamList):\n",
    "    for team in TeamList:\n",
    "        GetTeamSalaryCapHits(team)\n",
    "GetTeamSalaryCapHits('buffalo-bills BUF')\n",
    "# GetAllTeamSalaryCapHits(NFLTeams)"
   ]
  },
  {
   "cell_type": "code",
   "execution_count": null,
   "id": "5acd769b",
   "metadata": {},
   "outputs": [],
   "source": []
  }
 ],
 "metadata": {
  "kernelspec": {
   "display_name": "Python 3 (ipykernel)",
   "language": "python",
   "name": "python3"
  },
  "language_info": {
   "codemirror_mode": {
    "name": "ipython",
    "version": 3
   },
   "file_extension": ".py",
   "mimetype": "text/x-python",
   "name": "python",
   "nbconvert_exporter": "python",
   "pygments_lexer": "ipython3",
   "version": "3.8.10"
  }
 },
 "nbformat": 4,
 "nbformat_minor": 5
}
