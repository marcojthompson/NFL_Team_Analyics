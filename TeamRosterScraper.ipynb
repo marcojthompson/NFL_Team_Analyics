{
 "cells": [
  {
   "cell_type": "code",
   "execution_count": 1,
   "id": "9f58e56b",
   "metadata": {},
   "outputs": [],
   "source": [
    "# Header block to include all modules that must be imported ahead of time\n",
    "# Only needs to be run once per session, and each time a new module is added\n",
    "\n",
    "import requests\n",
    "from bs4 import BeautifulSoup\n",
    "import json\n",
    "import pandas as pd # this will need to be installed via command line first\n",
    "import lxml # this will need to be installed via command line first(as well)"
   ]
  },
  {
   "cell_type": "code",
   "execution_count": null,
   "id": "0ceb066b",
   "metadata": {},
   "outputs": [],
   "source": [
    "# There isn't a table that has all the desired columns, so players will have to be named \n",
    "# \"[First name] [Last name] [Team location abv]\"\n",
    "\n",
    "# Proposed table columns:\n",
    "# Player Name | Age | Years of Experience | Position | Cap Hit\n",
    "\n",
    "def GetTeamRosters():"
   ]
  }
 ],
 "metadata": {
  "kernelspec": {
   "display_name": "Python 3 (ipykernel)",
   "language": "python",
   "name": "python3"
  },
  "language_info": {
   "codemirror_mode": {
    "name": "ipython",
    "version": 3
   },
   "file_extension": ".py",
   "mimetype": "text/x-python",
   "name": "python",
   "nbconvert_exporter": "python",
   "pygments_lexer": "ipython3",
   "version": "3.8.10"
  }
 },
 "nbformat": 4,
 "nbformat_minor": 5
}
