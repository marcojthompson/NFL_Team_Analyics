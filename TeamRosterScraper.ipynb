{
 "cells": [
  {
   "cell_type": "code",
   "execution_count": 26,
   "id": "9f58e56b",
   "metadata": {},
   "outputs": [],
   "source": [
    "# Header block to include all modules that must be imported ahead of time\n",
    "# Only needs to be run once per session, and each time a new module is added\n",
    "\n",
    "import requests\n",
    "from bs4 import BeautifulSoup\n",
    "import json\n",
    "import pandas as pd # this will need to be installed via command line first\n",
    "import lxml # this will need to be installed via command line first(as well)\n",
    "from requests_html import HTMLSession # this will need to be installed via command line first(as well)"
   ]
  },
  {
   "cell_type": "code",
   "execution_count": 32,
   "id": "0ceb066b",
   "metadata": {},
   "outputs": [],
   "source": [
    "# There isn't a table that has all the desired columns, so players will have to be named \n",
    "# \"[First name] [Last name] [Team location abv]\"\n",
    "\n",
    "# Proposed table columns:\n",
    "# Player Name | Age | Years of Experience | Position | Cap Hit\n",
    "\n",
    "def GetTeamRosters(team):\n",
    "    # Create the url needed to access the specific roster we want, create an HTML session, get a response\n",
    "    url = f'https://www.ourlads.com/nfldepthcharts/roster/{team[-4:].strip(\"0\")}'\n",
    "    session = HTMLSession()\n",
    "    response = session.get(url)\n",
    "    \n",
    "    # See if the response was valid\n",
    "    response.raise_for_status()\n",
    "    \n",
    "    # Use a CSS selector to find the table\n",
    "    table_selector = 'table table-bordered'\n",
    "    table = response.html.find(table_selector, first = True)\n",
    "    \n",
    "    # See if the table was found\n",
    "    if table:\n",
    "        df = pd.read_html(table.html, header = 0)[0]\n",
    "        print(df)\n",
    "    else:\n",
    "        print(\"No table?\")\n",
    "    \n",
    "    \"\"\"\n",
    "    # If we get a normal response proceed with data scraping\n",
    "    if RosterResponse.status_code == 200:\n",
    "        \n",
    "        print(f\"Request succeeded with status code {RosterResponse.status_code}\")\n",
    "        TeamNameCaptalized = (team[:-4].replace(\"-\", \" \")).title()\n",
    "        print(f\"Here is the team rosters for the {TeamNameCaptalized}:\")\n",
    "\n",
    "        # Pandas read_html method allows the table contents to be put into a DataFrame\n",
    "        table_tag = 'table table-bordered'\n",
    "        DataFrames = pd.read_html(RosterResponse.content, \n",
    "                                  flavor = \"html5lib\", \n",
    "                                  attrs = {'class': table_tag}, \n",
    "                                  match = 'table table-bordered')\n",
    "        \n",
    "        # Select the specific parts of the dataframe we want\n",
    "        RosterDF = DataFrames[0]\n",
    "        print(RosterDF)\n",
    "        \n",
    "        \n",
    "        SalariesDF = SalariesDF.assign(TeamLOC = team[-4:].strip(\"0\"))\n",
    "\n",
    "        # Create a .csv file with all the player names and their cap hits\n",
    "        SalariesDF.to_csv(f'{TeamNameCaptalized}-Player-Salary-List.csv', index = False, header = False)\n",
    "        \n",
    "        # Read the csv back for testing purposes\n",
    "        SalariesCSV = pd.read_csv(f'{TeamNameCaptalized}-Player-Salary-List.csv', header = None)\n",
    "        SalariesCSV.columns = ['Player', 'CapNumber', 'TeamLOC']\n",
    "        print(SalariesCSV)\n",
    "        \n",
    "\n",
    "    # If we don't get a normal reponse, stop scraping\n",
    "    else:\n",
    "        print(f\"Request failed with status code {RosterResponse.status_code}\")\n",
    "        return -1\n",
    "        \n",
    "    \"\"\"\n",
    "    \n",
    "    "
   ]
  },
  {
   "cell_type": "code",
   "execution_count": 33,
   "id": "418aa558",
   "metadata": {
    "scrolled": true
   },
   "outputs": [
    {
     "name": "stdout",
     "output_type": "stream",
     "text": [
      "No table?\n"
     ]
    }
   ],
   "source": [
    "GetTeamRosters('buffalo-bills BUF')"
   ]
  },
  {
   "cell_type": "code",
   "execution_count": null,
   "id": "e76fa29b",
   "metadata": {},
   "outputs": [],
   "source": []
  }
 ],
 "metadata": {
  "kernelspec": {
   "display_name": "Python 3 (ipykernel)",
   "language": "python",
   "name": "python3"
  },
  "language_info": {
   "codemirror_mode": {
    "name": "ipython",
    "version": 3
   },
   "file_extension": ".py",
   "mimetype": "text/x-python",
   "name": "python",
   "nbconvert_exporter": "python",
   "pygments_lexer": "ipython3",
   "version": "3.8.10"
  }
 },
 "nbformat": 4,
 "nbformat_minor": 5
}
